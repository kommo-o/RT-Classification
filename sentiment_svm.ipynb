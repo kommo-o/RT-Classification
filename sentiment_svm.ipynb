{
 "metadata": {
  "name": "",
  "signature": "sha256:afc612b9eb5595cea9c48f3a8ccc306ca08da7f9fae8616f493c585d6c786bfe"
 },
 "nbformat": 3,
 "nbformat_minor": 0,
 "worksheets": [
  {
   "cells": [
    {
     "cell_type": "code",
     "collapsed": false,
     "input": [
      "import csv\n",
      "from sklearn.feature_extraction.text import CountVectorizer\n",
      "from sklearn.svm import SVC"
     ],
     "language": "python",
     "metadata": {},
     "outputs": [],
     "prompt_number": 1
    },
    {
     "cell_type": "code",
     "collapsed": false,
     "input": [
      "train_data, train_target = [], []"
     ],
     "language": "python",
     "metadata": {},
     "outputs": [],
     "prompt_number": 7
    },
    {
     "cell_type": "code",
     "collapsed": false,
     "input": [
      "with open('train.tsv', 'r') as f:\n",
      "\tf.readline()\n",
      "\tcsvreader = csv.reader(f, delimiter='\\t')\n",
      "\tfor row in csvreader:\n",
      "\t\ttrain_data.append(row[2])\n",
      "\t\ttrain_target.append(row[3])"
     ],
     "language": "python",
     "metadata": {},
     "outputs": [],
     "prompt_number": 8
    },
    {
     "cell_type": "code",
     "collapsed": false,
     "input": [
      "vect = CountVectorizer()\n",
      "train_counts = vect.fit_transform(train_data)"
     ],
     "language": "python",
     "metadata": {},
     "outputs": [],
     "prompt_number": 9
    },
    {
     "cell_type": "code",
     "collapsed": false,
     "input": [
      "clf = SVC(kernel='linear')\n",
      "clf_model = clf.fit(train_counts, train_target)"
     ],
     "language": "python",
     "metadata": {},
     "outputs": []
    },
    {
     "cell_type": "code",
     "collapsed": false,
     "input": [
      "test_data = []\n",
      "test_target = []"
     ],
     "language": "python",
     "metadata": {},
     "outputs": []
    },
    {
     "cell_type": "code",
     "collapsed": false,
     "input": [
      "with open('test.tsv') as f:\n",
      "    f.readline()\n",
      "    csvreader = csv.reader(f, delimiter='\\t')\n",
      "    for row in csvreader:\n",
      "        test_data.append(row[2])\n",
      "        test_target.append(row[3])"
     ],
     "language": "python",
     "metadata": {},
     "outputs": []
    },
    {
     "cell_type": "code",
     "collapsed": false,
     "input": [
      "test_counts = vect.transform(test_data)"
     ],
     "language": "python",
     "metadata": {},
     "outputs": []
    },
    {
     "cell_type": "code",
     "collapsed": false,
     "input": [
      "sentimend_pred = clf.predict(test_counts)"
     ],
     "language": "python",
     "metadata": {},
     "outputs": []
    },
    {
     "cell_type": "code",
     "collapsed": false,
     "input": [
      "for (t, s) in zip(test_target, sentimend_pred):\n",
      "    print str(t) + \",\" + str(s)"
     ],
     "language": "python",
     "metadata": {},
     "outputs": []
    },
    {
     "cell_type": "code",
     "collapsed": false,
     "input": [],
     "language": "python",
     "metadata": {},
     "outputs": []
    }
   ],
   "metadata": {}
  }
 ]
}