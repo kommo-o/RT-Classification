{
 "metadata": {
  "name": "",
  "signature": "sha256:8172cddd569fc13abe34a6d2170c609b718ce2c9cc7ff9b9b33e03099ebc3f61"
 },
 "nbformat": 3,
 "nbformat_minor": 0,
 "worksheets": [
  {
   "cells": [
    {
     "cell_type": "code",
     "collapsed": false,
     "input": [
      "import csv\n",
      "from sklearn.feature_extraction.text import CountVectorizer\n",
      "from sklearn.svm import SVC"
     ],
     "language": "python",
     "metadata": {},
     "outputs": [],
     "prompt_number": 1
    },
    {
     "cell_type": "code",
     "collapsed": false,
     "input": [
      "train_data, train_target = [], []"
     ],
     "language": "python",
     "metadata": {},
     "outputs": [],
     "prompt_number": 7
    },
    {
     "cell_type": "code",
     "collapsed": false,
     "input": [
      "with open('train.tsv', 'r') as f:\n",
      "\tf.readline()\n",
      "\tcsvreader = csv.reader(f, delimiter='\\t')\n",
      "\tfor row in csvreader:\n",
      "\t\ttrain_data.append(row[2])\n",
      "\t\ttrain_target.append(row[3])"
     ],
     "language": "python",
     "metadata": {},
     "outputs": [],
     "prompt_number": 8
    },
    {
     "cell_type": "code",
     "collapsed": false,
     "input": [
      "vect = CountVectorizer()\n",
      "train_counts = vect.fit_transform(train_data)"
     ],
     "language": "python",
     "metadata": {},
     "outputs": [],
     "prompt_number": 9
    },
    {
     "cell_type": "code",
     "collapsed": false,
     "input": [
      "clf = SVC(kernel='linear')\n",
      "clf_model = clf.fit(train_counts, train_target)"
     ],
     "language": "python",
     "metadata": {},
     "outputs": [],
     "prompt_number": 11
    },
    {
     "cell_type": "code",
     "collapsed": false,
     "input": [
      "test_data = []\n",
      "test_target = []"
     ],
     "language": "python",
     "metadata": {},
     "outputs": [],
     "prompt_number": 15
    },
    {
     "cell_type": "code",
     "collapsed": false,
     "input": [
      "with open('test.tsv') as f:\n",
      "    f.readline()\n",
      "    csvreader = csv.reader(f, delimiter='\\t')\n",
      "    for row in csvreader:\n",
      "        test_data.append(row[2])\n",
      "        test_target.append(row[1])"
     ],
     "language": "python",
     "metadata": {},
     "outputs": [],
     "prompt_number": 17
    },
    {
     "cell_type": "code",
     "collapsed": false,
     "input": [
      "test_counts = vect.transform(test_data)"
     ],
     "language": "python",
     "metadata": {},
     "outputs": [],
     "prompt_number": 18
    },
    {
     "cell_type": "code",
     "collapsed": false,
     "input": [
      "sentimend_pred = clf.predict(test_counts)"
     ],
     "language": "python",
     "metadata": {},
     "outputs": [],
     "prompt_number": 19
    },
    {
     "cell_type": "code",
     "collapsed": false,
     "input": [
      "with open('submission_svm_tmp.csv', 'w') as f:\n",
      "    f.write(\"PhraseId,Sentiment\\n\")\n",
      "    for (t, s) in zip(test_target, sentimend_pred):\n",
      "        new =  str(t) + \",\" + str(s)+\"\\n\"\n",
      "        f.write(new)"
     ],
     "language": "python",
     "metadata": {},
     "outputs": [],
     "prompt_number": 36
    },
    {
     "cell_type": "code",
     "collapsed": false,
     "input": [
      "import csv\n",
      "svm_out = []\n",
      "sgd_out = []\n",
      "with open('submission_svm_tmp.csv', 'r') as f:\n",
      "    for line in f:\n",
      "        sp = line.split(',')\n",
      "        svm_out.append(sp[1])\n",
      "with open('submission_sgd.csv', 'r') as g:\n",
      "    for line in g:\n",
      "        sp = line.split(',')\n",
      "        sgd_out.append(sp[0])\n",
      "out = zip(sgd_out, svm_out)\n",
      "with open('submission_svm.csv','w') as o:\n",
      "    for pid, sent in out:\n",
      "        newl = pid+','+sent\n",
      "        o.write(newl)"
     ],
     "language": "python",
     "metadata": {},
     "outputs": [],
     "prompt_number": 39
    },
    {
     "cell_type": "code",
     "collapsed": false,
     "input": [],
     "language": "python",
     "metadata": {},
     "outputs": []
    }
   ],
   "metadata": {}
  }
 ]
}