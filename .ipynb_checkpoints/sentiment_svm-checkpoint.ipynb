{
 "metadata": {
  "name": "",
  "signature": "sha256:cc5cc287531ddf62c338cc409ed66184dbd50d4f99a84ae594ee2e3598cb4d72"
 },
 "nbformat": 3,
 "nbformat_minor": 0,
 "worksheets": []
}