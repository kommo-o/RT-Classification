{
 "metadata": {
  "name": "",
  "signature": "sha256:a7949390052c524b5fe0de8df2f59f55e7bcff60db8510e65f3e31a5bdd3d181"
 },
 "nbformat": 3,
 "nbformat_minor": 0,
 "worksheets": [
  {
   "cells": [
    {
     "cell_type": "code",
     "collapsed": false,
     "input": [
      "from sklearn.feature_extraction.text import TfidfVectorizer\n",
      "from sklearn.naive_bayes import MultinomialNB\n",
      "from sklearn.pipeline import Pipeline\n",
      "from sklearn.pipeline import FeatureUnion\n",
      "from sklearn.grid_search import GridSearchCV\n",
      "from sklearn.feature_selection import SelectPercentile\n",
      "from sklearn.feature_selection import chi2\n",
      "import numpy as np\n",
      "import csv\n",
      "import sys"
     ],
     "language": "python",
     "metadata": {},
     "outputs": [],
     "prompt_number": 12
    },
    {
     "cell_type": "code",
     "collapsed": false,
     "input": [
      "X_train, y_train, ID_test, X_test = [], [], [], []"
     ],
     "language": "python",
     "metadata": {},
     "outputs": [],
     "prompt_number": 13
    },
    {
     "cell_type": "code",
     "collapsed": false,
     "input": [
      "with open('train.tsv', 'r') as f:\n",
      "\tf.readline()\n",
      "\tcsvreader = csv.reader(f, delimiter='\\t')\n",
      "\tfor row in csvreader:\n",
      "\t\tX_train.append(row[2])\n",
      "\t\ty_train.append(row[3])"
     ],
     "language": "python",
     "metadata": {},
     "outputs": [],
     "prompt_number": 14
    },
    {
     "cell_type": "code",
     "collapsed": false,
     "input": [
      "with open('test.tsv', 'r') as f:\n",
      "\tf.readline()\n",
      "\tcsvreader = csv.reader(f, delimiter='\\t')\n",
      "\tfor row in csvreader:\n",
      "\t\tID_test.append(row[0])\n",
      "\t\tX_test.append(row[2])"
     ],
     "language": "python",
     "metadata": {},
     "outputs": [],
     "prompt_number": 15
    },
    {
     "cell_type": "code",
     "collapsed": false,
     "input": [
      "words = TfidfVectorizer(analyzer=\"word\", binary=False, use_idf=True, stop_words=\"english\", min_df=3)\n",
      "char = TfidfVectorizer(analyzer=\"char\", binary=False, use_idf=True)"
     ],
     "language": "python",
     "metadata": {},
     "outputs": [],
     "prompt_number": 16
    },
    {
     "cell_type": "code",
     "collapsed": false,
     "input": [
      "select = SelectPercentile(score_func=chi2)"
     ],
     "language": "python",
     "metadata": {},
     "outputs": [],
     "prompt_number": 17
    },
    {
     "cell_type": "code",
     "collapsed": false,
     "input": [
      "feat = FeatureUnion([('words', words),('char', char)])"
     ],
     "language": "python",
     "metadata": {},
     "outputs": [],
     "prompt_number": 18
    },
    {
     "cell_type": "code",
     "collapsed": false,
     "input": [
      "text_clf = Pipeline([('feat', feat),('clf', MultinomialNB())])"
     ],
     "language": "python",
     "metadata": {},
     "outputs": [],
     "prompt_number": 19
    },
    {
     "cell_type": "code",
     "collapsed": false,
     "input": [
      "parameters = {'feat__words__ngram_range': [(1,5), (1,6)],\n",
      "              'feat__words__min_df': (2,3),\n",
      "              'feat__words__use_idf': (True, False),\n",
      "              'feat__char__use_idf': (True, False),\n",
      "}"
     ],
     "language": "python",
     "metadata": {},
     "outputs": [],
     "prompt_number": 20
    },
    {
     "cell_type": "code",
     "collapsed": false,
     "input": [
      "gs_clf = GridSearchCV(text_clf, parameters, cv=2, verbose=True, n_jobs=-2)"
     ],
     "language": "python",
     "metadata": {},
     "outputs": [],
     "prompt_number": 21
    },
    {
     "cell_type": "code",
     "collapsed": false,
     "input": [
      "gs_clf.fit(X_train, y_train)"
     ],
     "language": "python",
     "metadata": {},
     "outputs": [
      {
       "output_type": "stream",
       "stream": "stdout",
       "text": [
        "Fitting 2 folds for each of 16 candidates, totalling 32 fits\n"
       ]
      },
      {
       "output_type": "stream",
       "stream": "stderr",
       "text": [
        "[Parallel(n_jobs=-2)]: Done   1 jobs       | elapsed:  1.2min\n",
        "[Parallel(n_jobs=-2)]: Done  28 out of  32 | elapsed: 14.1min remaining:  2.0min\n",
        "[Parallel(n_jobs=-2)]: Done  32 out of  32 | elapsed: 16.0min finished\n"
       ]
      },
      {
       "metadata": {},
       "output_type": "pyout",
       "prompt_number": 22,
       "text": [
        "GridSearchCV(cv=2,\n",
        "       estimator=Pipeline(steps=[('feat', FeatureUnion(n_jobs=1,\n",
        "       transformer_list=[('words', TfidfVectorizer(analyzer='word', binary=False, charset=None,\n",
        "        charset_error=None, decode_error=u'strict',\n",
        "        dtype=<type 'numpy.int64'>, encoding=u'utf-8', input=u'content',\n",
        "        lowercase=True, max_df=1.0, max_...    transformer_weights=None)), ('clf', MultinomialNB(alpha=1.0, class_prior=None, fit_prior=True))]),\n",
        "       fit_params={}, iid=True, loss_func=None, n_jobs=-2,\n",
        "       param_grid={'feat__words__ngram_range': [(1, 5), (1, 6)], 'feat__words__use_idf': (True, False), 'feat__char__use_idf': (True, False), 'feat__words__min_df': (2, 3)},\n",
        "       pre_dispatch='2*n_jobs', refit=True, score_func=None, scoring=None,\n",
        "       verbose=True)"
       ]
      }
     ],
     "prompt_number": 22
    },
    {
     "cell_type": "code",
     "collapsed": false,
     "input": [
      "predictions = gs_clf.predict(X_test)"
     ],
     "language": "python",
     "metadata": {},
     "outputs": [],
     "prompt_number": 23
    },
    {
     "cell_type": "code",
     "collapsed": false,
     "input": [
      "with open('scores.csv', 'w') as outfile:\n",
      "\tcsvwriter = csv.writer(outfile, delimiter=',')\n",
      "\theader = [\"mean\",\"std\"]\n",
      "\tparam_names = [param for param in gs_clf.param_grid]\n",
      "\theader.extend(param_names)\n",
      "\tcsvwriter.writerow(header)\n",
      "\tfor config in gs_clf.grid_scores_:\n",
      "\t\tmean = config[1]\n",
      "\t\tstd = np.std(config[2])\n",
      "\t\trow = [mean,std]\n",
      "\t\tparams = [str(p) for p in config[0].values()]\n",
      "\t\trow.extend(params)\n",
      "\t\tcsvwriter.writerow(row)"
     ],
     "language": "python",
     "metadata": {},
     "outputs": [],
     "prompt_number": 24
    },
    {
     "cell_type": "code",
     "collapsed": false,
     "input": [
      "best_parameters, score, _ = max(gs_clf.grid_scores_, key=lambda x: x[1])"
     ],
     "language": "python",
     "metadata": {},
     "outputs": [],
     "prompt_number": 26
    },
    {
     "cell_type": "code",
     "collapsed": false,
     "input": [
      "for param_name in sorted(parameters.keys()):\n",
      "    print(\"%s: %r\" % (param_name, best_parameters[param_name]))\n",
      "print score"
     ],
     "language": "python",
     "metadata": {},
     "outputs": [
      {
       "output_type": "stream",
       "stream": "stdout",
       "text": [
        "feat__char__use_idf: True\n",
        "feat__words__min_df: 3\n",
        "feat__words__ngram_range: (1, 5)\n",
        "feat__words__use_idf: False\n",
        "0.51319364347\n"
       ]
      }
     ],
     "prompt_number": 27
    },
    {
     "cell_type": "code",
     "collapsed": false,
     "input": [
      "with open('submission_mnb.csv', 'w') as outfile:\n",
      "\toutfile.write(\"PhraseId,Sentiment\\n\")\n",
      "\tfor phrase_id,pred in zip(ID_test,predictions):\n",
      "\t\toutfile.write('{},{}\\n'.format(phrase_id,pred))"
     ],
     "language": "python",
     "metadata": {},
     "outputs": [],
     "prompt_number": 29
    },
    {
     "cell_type": "code",
     "collapsed": false,
     "input": [],
     "language": "python",
     "metadata": {},
     "outputs": []
    }
   ],
   "metadata": {}
  }
 ]
}