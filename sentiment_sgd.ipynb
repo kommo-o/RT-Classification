{
 "metadata": {
  "name": "",
  "signature": "sha256:c3b6606c5dcb70adcf6b9c523ada6fcbdcb1e7b8cbfa5c2c3095d182b06243e5"
 },
 "nbformat": 3,
 "nbformat_minor": 0,
 "worksheets": [
  {
   "cells": [
    {
     "cell_type": "code",
     "collapsed": false,
     "input": [
      "from sklearn.feature_extraction.text import TfidfVectorizer\n",
      "from sklearn.linear_model import SGDClassifier\n",
      "from sklearn.pipeline import Pipeline\n",
      "from sklearn.pipeline import FeatureUnion\n",
      "from sklearn.grid_search import GridSearchCV\n",
      "from sklearn.feature_selection import SelectPercentile\n",
      "from sklearn.feature_selection import chi2\n",
      "import numpy as np\n",
      "import csv\n",
      "import sys"
     ],
     "language": "python",
     "metadata": {},
     "outputs": [],
     "prompt_number": 1
    },
    {
     "cell_type": "code",
     "collapsed": false,
     "input": [
      "X_train, y_train, ID_test, X_test = [], [], [], []"
     ],
     "language": "python",
     "metadata": {},
     "outputs": [],
     "prompt_number": 2
    },
    {
     "cell_type": "code",
     "collapsed": false,
     "input": [
      "with open('train.tsv', 'r') as f:\n",
      "\tf.readline()\n",
      "\tcsvreader = csv.reader(f, delimiter='\\t')\n",
      "\tfor row in csvreader:\n",
      "\t\tX_train.append(row[2])\n",
      "\t\ty_train.append(row[3])"
     ],
     "language": "python",
     "metadata": {},
     "outputs": [],
     "prompt_number": 3
    },
    {
     "cell_type": "code",
     "collapsed": false,
     "input": [
      "with open('test.tsv', 'r') as f:\n",
      "\tf.readline()\n",
      "\tcsvreader = csv.reader(f, delimiter='\\t')\n",
      "\tfor row in csvreader:\n",
      "\t\tID_test.append(row[0])\n",
      "\t\tX_test.append(row[2])"
     ],
     "language": "python",
     "metadata": {},
     "outputs": [],
     "prompt_number": 4
    },
    {
     "cell_type": "code",
     "collapsed": false,
     "input": [
      "words = TfidfVectorizer(analyzer=\"word\", binary=False, use_idf=True, stop_words=\"english\", min_df=3)\n",
      "char = TfidfVectorizer(analyzer=\"char\", binary=False, use_idf=True)"
     ],
     "language": "python",
     "metadata": {},
     "outputs": [],
     "prompt_number": 6
    },
    {
     "cell_type": "code",
     "collapsed": false,
     "input": [
      "select = SelectPercentile(score_func=chi2)"
     ],
     "language": "python",
     "metadata": {},
     "outputs": [],
     "prompt_number": 7
    },
    {
     "cell_type": "code",
     "collapsed": false,
     "input": [
      "feat = FeatureUnion([('words', words),('char', char)])"
     ],
     "language": "python",
     "metadata": {},
     "outputs": [],
     "prompt_number": 9
    },
    {
     "cell_type": "code",
     "collapsed": false,
     "input": [
      "text_clf = Pipeline([('feat', feat),('clf', SGDClassifier(penalty='l2'))])"
     ],
     "language": "python",
     "metadata": {},
     "outputs": [],
     "prompt_number": 12
    },
    {
     "cell_type": "code",
     "collapsed": false,
     "input": [
      "parameters = {'feat__words__ngram_range': [(1,5), (1,6)],\n",
      "              'feat__words__min_df': (2,3),\n",
      "              'feat__words__use_idf': (True, False),\n",
      "              'feat__char__use_idf': (True, False),\n",
      "              'clf__alpha': (.00001, .000001),\n",
      "              'clf__loss': (\"hinge\", \"log\", \"modified_huber\")\n",
      "}"
     ],
     "language": "python",
     "metadata": {},
     "outputs": [],
     "prompt_number": 13
    },
    {
     "cell_type": "code",
     "collapsed": false,
     "input": [
      "gs_clf = GridSearchCV(text_clf, parameters, cv=2, verbose=True, n_jobs=-2)"
     ],
     "language": "python",
     "metadata": {},
     "outputs": [],
     "prompt_number": 14
    },
    {
     "cell_type": "code",
     "collapsed": false,
     "input": [
      "gs_clf.fit(X_train, y_train)"
     ],
     "language": "python",
     "metadata": {},
     "outputs": [
      {
       "output_type": "stream",
       "stream": "stdout",
       "text": [
        "Fitting 2 folds for each of 96 candidates, totalling 192 fits\n"
       ]
      },
      {
       "output_type": "stream",
       "stream": "stderr",
       "text": [
        "[Parallel(n_jobs=-2)]: Done   1 jobs       | elapsed:   25.5s\n",
        "[Parallel(n_jobs=-2)]: Done  50 jobs       | elapsed:  8.9min\n",
        "[Parallel(n_jobs=-2)]: Done 188 out of 192 | elapsed: 46.7min remaining:   59.7s\n",
        "[Parallel(n_jobs=-2)]: Done 192 out of 192 | elapsed: 47.3min finished\n"
       ]
      },
      {
       "metadata": {},
       "output_type": "pyout",
       "prompt_number": 15,
       "text": [
        "GridSearchCV(cv=2,\n",
        "       estimator=Pipeline(steps=[('feat', FeatureUnion(n_jobs=1,\n",
        "       transformer_list=[('words', TfidfVectorizer(analyzer='word', binary=False, charset=None,\n",
        "        charset_error=None, decode_error=u'strict',\n",
        "        dtype=<type 'numpy.int64'>, encoding=u'utf-8', input=u'content',\n",
        "        lowercase=True, max_df=1.0, max_..., penalty='l2', power_t=0.5,\n",
        "       random_state=None, shuffle=False, verbose=0, warm_start=False))]),\n",
        "       fit_params={}, iid=True, loss_func=None, n_jobs=-2,\n",
        "       param_grid={'feat__words__ngram_range': [(1, 5), (1, 6)], 'feat__char__use_idf': (True, False), 'clf__loss': ('hinge', 'log', 'modified_huber'), 'feat__words__min_df': (2, 3), 'feat__words__use_idf': (True, False), 'clf__alpha': (1e-05, 1e-06)},\n",
        "       pre_dispatch='2*n_jobs', refit=True, score_func=None, scoring=None,\n",
        "       verbose=True)"
       ]
      }
     ],
     "prompt_number": 15
    },
    {
     "cell_type": "code",
     "collapsed": false,
     "input": [
      "predictions = gs_clf.predict(X_test)"
     ],
     "language": "python",
     "metadata": {},
     "outputs": [],
     "prompt_number": 16
    },
    {
     "cell_type": "code",
     "collapsed": false,
     "input": [
      "with open('scores.csv', 'w') as outfile:\n",
      "\tcsvwriter = csv.writer(outfile, delimiter=',')\n",
      "\theader = [\"mean\",\"std\"]\n",
      "\tparam_names = [param for param in gs_clf.param_grid]\n",
      "\theader.extend(param_names)\n",
      "\tcsvwriter.writerow(header)\n",
      "\tfor config in gs_clf.grid_scores_:\n",
      "\t\tmean = config[1]\n",
      "\t\tstd = np.std(config[2])\n",
      "\t\trow = [mean,std]\n",
      "\t\tparams = [str(p) for p in config[0].values()]\n",
      "\t\trow.extend(params)\n",
      "\t\tcsvwriter.writerow(row)"
     ],
     "language": "python",
     "metadata": {},
     "outputs": [],
     "prompt_number": 18
    },
    {
     "cell_type": "code",
     "collapsed": false,
     "input": [
      "best_parameters, score, _ = max(gs_clf.grid_scores_, key=lambda x: x[1])"
     ],
     "language": "python",
     "metadata": {},
     "outputs": [],
     "prompt_number": 20
    },
    {
     "cell_type": "code",
     "collapsed": false,
     "input": [
      "for param_name in sorted(parameters.keys()):\n",
      "    print(\"%s: %r\" % (param_name, best_parameters[param_name]))\n",
      "print score"
     ],
     "language": "python",
     "metadata": {},
     "outputs": [
      {
       "output_type": "stream",
       "stream": "stdout",
       "text": [
        "clf__alpha: 1e-05\n",
        "clf__loss: 'log'\n",
        "feat__char__use_idf: True\n",
        "feat__words__min_df: 2\n",
        "feat__words__ngram_range: (1, 5)\n",
        "feat__words__use_idf: False\n",
        "0.381872356786\n"
       ]
      }
     ],
     "prompt_number": 21
    },
    {
     "cell_type": "code",
     "collapsed": false,
     "input": [
      "with open('submission_sgd.csv', 'w') as outfile:\n",
      "\toutfile.write(\"PhraseId,Sentiment\\n\")\n",
      "\tfor phrase_id,pred in zip(ID_test,predictions):\n",
      "\t\toutfile.write('{},{}\\n'.format(phrase_id,pred))"
     ],
     "language": "python",
     "metadata": {},
     "outputs": [],
     "prompt_number": 22
    },
    {
     "cell_type": "code",
     "collapsed": false,
     "input": [],
     "language": "python",
     "metadata": {},
     "outputs": []
    }
   ],
   "metadata": {}
  }
 ]
}